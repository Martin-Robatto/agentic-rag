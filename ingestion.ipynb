{
  "cells": [
    {
      "cell_type": "markdown",
      "metadata": {},
      "source": [
        "# Formula 1 RAG Ingestion Pipeline\n",
        "\n",
        "This notebook handles document ingestion and retrieval for a Formula 1 knowledge base using LangChain and Pinecone.\n",
        "\n",
        "## Setup and Imports\n",
        "\n",
        "This cell loads environment variables and imports all necessary libraries:\n",
        "- **dotenv**: Loads API keys from `.env` file\n",
        "- **langchain compatibility patch**: Fixes version compatibility issues\n",
        "- **LangChain components**: Text splitters, document loaders, embeddings, and vector store\n"
      ]
    },
    {
      "cell_type": "code",
      "execution_count": 19,
      "metadata": {},
      "outputs": [
        {
          "data": {
            "text/plain": [
              "True"
            ]
          },
          "execution_count": 19,
          "metadata": {},
          "output_type": "execute_result"
        }
      ],
      "source": [
        "import os\n",
        "from dotenv import load_dotenv\n",
        "from langchain_text_splitters import RecursiveCharacterTextSplitter\n",
        "from langchain_community.document_loaders import WebBaseLoader\n",
        "from langchain_openai import OpenAIEmbeddings\n",
        "from langchain_pinecone import PineconeVectorStore\n",
        "\n",
        "load_dotenv()\n",
        "\n"
      ]
    },
    {
      "cell_type": "markdown",
      "metadata": {},
      "source": [
        "## Functions Imported from ingestion.py\n",
        "\n",
        "This notebook imports two key functions from the `ingestion.py` module:\n",
        "\n",
        "### `ingest_documents()`\n",
        "Performs the complete document ingestion pipeline:\n",
        "1. **Load**: Fetches web pages from Formula 1 URLs using `WebBaseLoader`\n",
        "2. **Split**: Divides documents into chunks (1000 tokens, 200 overlap) using `RecursiveCharacterTextSplitter`\n",
        "3. **Embed**: Generates embeddings using OpenAI's embedding model\n",
        "4. **Store**: Uploads document chunks and embeddings to Pinecone vector database\n",
        "\n",
        "### `get_retriever()`\n",
        "Creates a retriever that connects to your existing Pinecone index without re-ingesting documents.\n",
        "\n",
        "**Benefit**: These functions can now be imported in any Python module or notebook!\n"
      ]
    },
    {
      "cell_type": "code",
      "execution_count": 12,
      "metadata": {},
      "outputs": [],
      "source": [
        "def ingest_documents():\n",
        "    urls = [\n",
        "        \"https://rishivikram348.medium.com/formula-one-for-dummies-part-one-the-basics-of-the-sport-26de6eeeca38\",\n",
        "        \"https://medium.com/@Formula.101/an-introduction-to-formula-1-teams-and-drivers-94de161ec82f\",\n",
        "        \"https://en.wikipedia.org/wiki/Drag_reduction_system\",\n",
        "    ]\n",
        "    \n",
        "    print(\"Loading documents from URLs...\")\n",
        "    documents = [WebBaseLoader(url).load() for url in urls]\n",
        "    documents_list = [item for sublist in documents for item in sublist]\n",
        "    \n",
        "    print(\"Splitting documents...\")\n",
        "    text_splitter = RecursiveCharacterTextSplitter.from_tiktoken_encoder(chunk_size=200, chunk_overlap=0)\n",
        "    doc_splits = text_splitter.split_documents(documents_list)\n",
        "    \n",
        "    print(f\"Ingesting {len(doc_splits)} document chunks into Pinecone...\")\n",
        "    embeddings = OpenAIEmbeddings(model=\"text-embedding-3-small\")\n",
        "    index_name = os.getenv(\"PINECONE_INDEX_NAME\")\n",
        "    \n",
        "    PineconeVectorStore.from_documents(\n",
        "        documents=doc_splits,\n",
        "        embedding=embeddings,\n",
        "        index_name=index_name\n",
        "    )\n",
        "    \n",
        "    print(f\"✓ Successfully ingested {len(doc_splits)} documents into Pinecone\")\n"
      ]
    },
    {
      "cell_type": "markdown",
      "metadata": {},
      "source": [
        "## Function: get_retriever()\n",
        "\n",
        "This function creates a retriever that connects to your existing Pinecone index **without re-ingesting documents**.\n",
        "\n",
        "**How it works**:\n",
        "- Connects to the existing Pinecone vector store\n",
        "- Returns a retriever configured to fetch the top 5 most relevant documents\n",
        "- Can be called multiple times without duplicating data\n",
        "\n",
        "**Usage**: Call this function whenever you need to query the knowledge base.\n"
      ]
    },
    {
      "cell_type": "code",
      "execution_count": null,
      "metadata": {},
      "outputs": [],
      "source": [
        "def get_retriever():\n",
        "    embeddings = OpenAIEmbeddings()\n",
        "    index_name = os.getenv(\"PINECONE_INDEX_NAME\")\n",
        "    \n",
        "    vector_store = PineconeVectorStore(\n",
        "        embedding=embeddings,\n",
        "        index_name=index_name\n",
        "    )\n",
        "    \n",
        "    return vector_store.as_retriever(search_kwargs={\"k\": 5})\n"
      ]
    },
    {
      "cell_type": "markdown",
      "metadata": {},
      "source": [
        "---\n",
        "\n",
        "# Part 1: Document Ingestion\n",
        "\n",
        "## ⚠️ Run This Cell Only When Updating the Knowledge Base\n",
        "\n",
        "**Purpose**: Loads Formula 1 articles from the web and stores them in Pinecone\n",
        "\n",
        "**When to run**:\n",
        "- First-time setup\n",
        "- Adding new URLs to the knowledge base\n",
        "- Refreshing existing content\n",
        "\n",
        "**What happens**:\n",
        "- Downloads content from 3 Formula 1 URLs\n",
        "- Splits content into manageable chunks\n",
        "- Creates embeddings (costs OpenAI API tokens)\n",
        "- Uploads to Pinecone (may duplicate if run multiple times)\n",
        "\n",
        "**Note**: Uncomment the line below to execute the ingestion.\n"
      ]
    },
    {
      "cell_type": "code",
      "execution_count": 13,
      "metadata": {},
      "outputs": [
        {
          "name": "stdout",
          "output_type": "stream",
          "text": [
            "Loading documents from URLs...\n",
            "Splitting documents...\n",
            "Ingesting 54 document chunks into Pinecone...\n",
            "✓ Successfully ingested 54 documents into Pinecone\n"
          ]
        }
      ],
      "source": [
        "ingest_documents()\n"
      ]
    },
    {
      "cell_type": "markdown",
      "metadata": {},
      "source": [
        "---\n",
        "\n",
        "# Part 2: Query and Test Retrieval\n",
        "\n",
        "## 🔍 Test Your Knowledge Base\n",
        "\n",
        "**Purpose**: Query the existing Pinecone index to verify retrieval works correctly\n",
        "\n",
        "**What this does**:\n",
        "- Connects to your existing Pinecone vector store (no data upload)\n",
        "- Searches for documents relevant to \"What is Formula 1?\"\n",
        "- Returns the top 5 most relevant document chunks\n",
        "- Displays the first 200 characters of each result\n",
        "\n",
        "**Safe to run multiple times**: This only reads from Pinecone, it doesn't modify or duplicate data.\n",
        "\n",
        "**Tip**: Change the query string to test different questions!\n"
      ]
    },
    {
      "cell_type": "code",
      "execution_count": 17,
      "metadata": {},
      "outputs": [
        {
          "name": "stdout",
          "output_type": "stream",
          "text": [
            "\n",
            "Found 5 results:\n",
            "\n",
            "--- Result 1 ---\n",
            "The effectiveness of the DRS will vary from track to track and, to a lesser extent, from car to car. The system's effectiveness was reviewed in 2011 to see if overtaking could be made easier, but not \n",
            "\n",
            "--- Result 2 ---\n",
            "Reception[edit]\n",
            "There has been a mixed reaction to the introduction of DRS in Formula One amongst both fans and drivers. Some believe that this is the solution to the lack of overtaking in F1 in recen\n",
            "\n",
            "--- Result 3 ---\n",
            "DRS in open (top) and closed (bottom) positions on a Red Bull RB7 in 2011\n",
            "In motor racing, the drag reduction system (DRS) is a form of driver-adjustable bodywork aimed at reducing aerodynamic drag in\n",
            "\n",
            "--- Result 4 ---\n",
            "Rationale[edit]\n",
            "In most higher-performance racing categories, the cars depend on the downforce produced by their aerodynamic bodywork to increase cornering speeds.[5] However, the aerodynamic bodywork\n",
            "\n",
            "--- Result 5 ---\n",
            "Functional description[edit]\n",
            "The horizontal elements of the rear wing consist of the main plane and the flap. The DRS allows the flap to lift a maximum of 85 millimetres (3.3 in) from the fixed main p\n",
            "\n"
          ]
        }
      ],
      "source": [
        "retriever = get_retriever()\n",
        "results = retriever.invoke(\"What is DRS?\")\n",
        "\n",
        "print(f\"\\nFound {len(results)} results:\\n\")\n",
        "for i, doc in enumerate(results, 1):\n",
        "    print(f\"--- Result {i} ---\")\n",
        "    print(doc.page_content[:200])\n",
        "    print()\n"
      ]
    }
  ],
  "metadata": {
    "kernelspec": {
      "display_name": "agentic-rag-YjLWKVbw",
      "language": "python",
      "name": "python3"
    },
    "language_info": {
      "codemirror_mode": {
        "name": "ipython",
        "version": 3
      },
      "file_extension": ".py",
      "mimetype": "text/x-python",
      "name": "python",
      "nbconvert_exporter": "python",
      "pygments_lexer": "ipython3",
      "version": "3.13.3"
    }
  },
  "nbformat": 4,
  "nbformat_minor": 2
}
