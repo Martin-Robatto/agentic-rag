{
  "cells": [
    {
      "cell_type": "markdown",
      "metadata": {},
      "source": [
        "# Formula 1 RAG Ingestion Pipeline\n",
        "\n",
        "This notebook handles document ingestion and retrieval for a Formula 1 knowledge base using LangChain and Pinecone.\n",
        "\n",
        "## Setup and Imports\n",
        "\n",
        "This cell loads environment variables and imports all necessary libraries:\n",
        "- **dotenv**: Loads API keys from `.env` file\n",
        "- **langchain compatibility patch**: Fixes version compatibility issues\n",
        "- **LangChain components**: Text splitters, document loaders, embeddings, and vector store\n"
      ]
    },
    {
      "cell_type": "code",
      "execution_count": 1,
      "metadata": {},
      "outputs": [
        {
          "name": "stderr",
          "output_type": "stream",
          "text": [
            "USER_AGENT environment variable not set, consider setting it to identify your requests.\n",
            "/Users/martinrobatto/.local/share/virtualenvs/agentic-rag-YjLWKVbw/lib/python3.13/site-packages/tqdm/auto.py:21: TqdmWarning: IProgress not found. Please update jupyter and ipywidgets. See https://ipywidgets.readthedocs.io/en/stable/user_install.html\n",
            "  from .autonotebook import tqdm as notebook_tqdm\n",
            "/Users/martinrobatto/.local/share/virtualenvs/agentic-rag-YjLWKVbw/lib/python3.13/site-packages/langchain_pinecone/__init__.py:3: LangChainDeprecationWarning: As of langchain-core 0.3.0, LangChain uses pydantic v2 internally. The langchain_core.pydantic_v1 module was a compatibility shim for pydantic v1, and should no longer be used. Please update the code to import from Pydantic directly.\n",
            "\n",
            "For example, replace imports like: `from langchain_core.pydantic_v1 import BaseModel`\n",
            "with: `from pydantic import BaseModel`\n",
            "or the v1 compatibility namespace if you are working in a code base that has not been fully upgraded to pydantic 2 yet. \tfrom pydantic.v1 import BaseModel\n",
            "\n",
            "  from langchain_pinecone.vectorstores import Pinecone, PineconeVectorStore\n"
          ]
        }
      ],
      "source": [
        "import os\n",
        "import sys\n",
        "from dotenv import load_dotenv\n",
        "\n",
        "load_dotenv()\n",
        "\n",
        "import langchain\n",
        "if not hasattr(langchain, 'debug'):\n",
        "    langchain.debug = False\n",
        "if not hasattr(langchain, 'verbose'):\n",
        "    langchain.verbose = False\n",
        "\n",
        "from langchain_text_splitters import RecursiveCharacterTextSplitter\n",
        "from langchain_community.document_loaders import WebBaseLoader\n",
        "from langchain_openai import OpenAIEmbeddings\n",
        "from langchain_pinecone import PineconeVectorStore\n"
      ]
    },
    {
      "cell_type": "markdown",
      "metadata": {},
      "source": [
        "## Function: ingest_documents()\n",
        "\n",
        "This function performs the complete document ingestion pipeline:\n",
        "\n",
        "1. **Load**: Fetches web pages from Formula 1 URLs using `WebBaseLoader`\n",
        "2. **Split**: Divides documents into chunks (1000 tokens, 200 overlap) using `RecursiveCharacterTextSplitter`\n",
        "3. **Embed**: Generates embeddings using OpenAI's embedding model\n",
        "4. **Store**: Uploads document chunks and embeddings to Pinecone vector database\n",
        "\n",
        "**Note**: Only call this function when you need to refresh/update the knowledge base.\n"
      ]
    },
    {
      "cell_type": "code",
      "execution_count": null,
      "metadata": {},
      "outputs": [],
      "source": [
        "def ingest_documents():\n",
        "    urls = [\n",
        "        \"https://rishivikram348.medium.com/formula-one-for-dummies-part-one-the-basics-of-the-sport-26de6eeeca38\",\n",
        "        \"https://medium.com/@Formula.101/an-introduction-to-formula-1-teams-and-drivers-94de161ec82f\",\n",
        "        \"https://en.wikipedia.org/wiki/Drag_reduction_system\",\n",
        "    ]\n",
        "    \n",
        "    print(\"Loading documents from URLs...\")\n",
        "    documents = [WebBaseLoader(url).load() for url in urls]\n",
        "    documents_list = [item for sublist in documents for item in sublist]\n",
        "    \n",
        "    print(\"Splitting documents...\")\n",
        "    text_splitter = RecursiveCharacterTextSplitter.from_tiktoken_encoder(chunk_size=200, chunk_overlap=0)\n",
        "    doc_splits = text_splitter.split_documents(documents_list)\n",
        "    \n",
        "    print(f\"Ingesting {len(doc_splits)} document chunks into Pinecone...\")\n",
        "    embeddings = OpenAIEmbeddings(model=\"text-embedding-3-small\")\n",
        "    index_name = os.getenv(\"PINECONE_INDEX_NAME\")\n",
        "    \n",
        "    PineconeVectorStore.from_documents(\n",
        "        documents=doc_splits,\n",
        "        embedding=embeddings,\n",
        "        index_name=index_name\n",
        "    )\n",
        "    \n",
        "    print(f\"✓ Successfully ingested {len(doc_splits)} documents into Pinecone\")\n"
      ]
    },
    {
      "cell_type": "markdown",
      "metadata": {},
      "source": [
        "## Function: get_retriever()\n",
        "\n",
        "This function creates a retriever that connects to your existing Pinecone index **without re-ingesting documents**.\n",
        "\n",
        "**How it works**:\n",
        "- Connects to the existing Pinecone vector store\n",
        "- Returns a retriever configured to fetch the top 5 most relevant documents\n",
        "- Can be called multiple times without duplicating data\n",
        "\n",
        "**Usage**: Call this function whenever you need to query the knowledge base.\n"
      ]
    },
    {
      "cell_type": "code",
      "execution_count": 3,
      "metadata": {},
      "outputs": [],
      "source": [
        "def get_retriever():\n",
        "    embeddings = OpenAIEmbeddings()\n",
        "    index_name = os.getenv(\"PINECONE_INDEX_NAME\")\n",
        "    \n",
        "    vector_store = PineconeVectorStore(\n",
        "        embedding=embeddings,\n",
        "        index_name=index_name\n",
        "    )\n",
        "    \n",
        "    return vector_store.as_retriever(search_kwargs={\"k\": 5})\n"
      ]
    },
    {
      "cell_type": "markdown",
      "metadata": {},
      "source": [
        "---\n",
        "\n",
        "# Part 1: Document Ingestion\n",
        "\n",
        "## ⚠️ Run This Cell Only When Updating the Knowledge Base\n",
        "\n",
        "**Purpose**: Loads Formula 1 articles from the web and stores them in Pinecone\n",
        "\n",
        "**When to run**:\n",
        "- First-time setup\n",
        "- Adding new URLs to the knowledge base\n",
        "- Refreshing existing content\n",
        "\n",
        "**What happens**:\n",
        "- Downloads content from 3 Formula 1 URLs\n",
        "- Splits content into manageable chunks\n",
        "- Creates embeddings (costs OpenAI API tokens)\n",
        "- Uploads to Pinecone (may duplicate if run multiple times)\n",
        "\n",
        "**Note**: Uncomment the line below to execute the ingestion.\n"
      ]
    },
    {
      "cell_type": "code",
      "execution_count": 10,
      "metadata": {},
      "outputs": [
        {
          "name": "stdout",
          "output_type": "stream",
          "text": [
            "Loading documents from URLs...\n",
            "Splitting documents...\n",
            "Ingesting 54 document chunks into Pinecone...\n",
            "✓ Successfully ingested 54 documents into Pinecone\n"
          ]
        }
      ],
      "source": [
        "ingest_documents()\n"
      ]
    },
    {
      "cell_type": "markdown",
      "metadata": {},
      "source": [
        "---\n",
        "\n",
        "# Part 2: Query and Test Retrieval\n",
        "\n",
        "## 🔍 Test Your Knowledge Base\n",
        "\n",
        "**Purpose**: Query the existing Pinecone index to verify retrieval works correctly\n",
        "\n",
        "**What this does**:\n",
        "- Connects to your existing Pinecone vector store (no data upload)\n",
        "- Searches for documents relevant to \"What is Formula 1?\"\n",
        "- Returns the top 5 most relevant document chunks\n",
        "- Displays the first 200 characters of each result\n",
        "\n",
        "**Safe to run multiple times**: This only reads from Pinecone, it doesn't modify or duplicate data.\n",
        "\n",
        "**Tip**: Change the query string to test different questions!\n"
      ]
    },
    {
      "cell_type": "code",
      "execution_count": 11,
      "metadata": {},
      "outputs": [
        {
          "name": "stdout",
          "output_type": "stream",
          "text": [
            "\n",
            "Found 5 results:\n",
            "\n",
            "--- Result 1 ---\n",
            "Formula One For Dummies — Part One: the basics of the sport | by Rishi Vikram | MediumSitemapOpen in appSign upSign inMedium LogoWriteSearchSign upSign inFormula One For Dummies — Part One: the basics\n",
            "\n",
            "--- Result 2 ---\n",
            "across the world. After each race, the teams pack up all their equipment and ship it over to the location of the next race.Scroll to the end of the article to see the current teams, cars and their dri\n",
            "\n",
            "--- Result 3 ---\n",
            "line is the winner. Sounds simple enough? There’s a lot more to it. But what I want is for you, the reader, to go from that level of understanding to something deeper; understanding how the sport work\n",
            "\n",
            "--- Result 4 ---\n",
            "An Introduction to Formula 1 Teams and Drivers | by Dylan Kane | MediumSitemapOpen in appSign upSign inMedium LogoWriteSearchSign upSign inAn Introduction to Formula 1 Teams and DriversDylan Kane9 min\n",
            "\n",
            "--- Result 5 ---\n",
            "(Top)\n",
            "\n",
            "\n",
            "\n",
            "\n",
            "\n",
            "1\n",
            "Rationale\n",
            "\n",
            "\n",
            "\n",
            "\n",
            "\n",
            "\n",
            "\n",
            "\n",
            "2\n",
            "Formula One\n",
            "\n",
            "\n",
            "\n",
            "\n",
            "Toggle Formula One subsection\n",
            "\n",
            "\n",
            "\n",
            "\n",
            "\n",
            "2.1\n",
            "Functional description\n",
            "\n",
            "\n",
            "\n",
            "\n",
            "\n",
            "\n",
            "\n",
            "\n",
            "2.2\n",
            "Rules on use\n",
            "\n",
            "\n",
            "\n",
            "\n",
            "\n",
            "\n",
            "\n",
            "\n",
            "\n",
            "\n",
            "3\n",
            "Reception\n",
            "\n",
            "\n",
            "\n",
            "\n",
            "\n",
            "\n",
            "\n",
            "\n",
            "4\n",
            "Road car use\n",
            "\n",
            "\n",
            "\n",
            "\n",
            "\n",
            "\n",
            "\n",
            "\n",
            "5\n",
            "See also\n",
            "\n",
            "\n"
          ]
        }
      ],
      "source": [
        "retriever = get_retriever()\n",
        "results = retriever.invoke(\"What is Formula 1?\")\n",
        "\n",
        "print(f\"\\nFound {len(results)} results:\\n\")\n",
        "for i, doc in enumerate(results, 1):\n",
        "    print(f\"--- Result {i} ---\")\n",
        "    print(doc.page_content[:200])\n",
        "    print()\n"
      ]
    }
  ],
  "metadata": {
    "kernelspec": {
      "display_name": "agentic-rag-YjLWKVbw",
      "language": "python",
      "name": "python3"
    },
    "language_info": {
      "codemirror_mode": {
        "name": "ipython",
        "version": 3
      },
      "file_extension": ".py",
      "mimetype": "text/x-python",
      "name": "python",
      "nbconvert_exporter": "python",
      "pygments_lexer": "ipython3",
      "version": "3.13.3"
    }
  },
  "nbformat": 4,
  "nbformat_minor": 2
}
